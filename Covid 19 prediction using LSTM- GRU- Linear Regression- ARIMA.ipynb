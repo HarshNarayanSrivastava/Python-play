{
 "cells": [
  {
   "cell_type": "code",
   "execution_count": null,
   "metadata": {},
   "outputs": [],
   "source": [
    "conda create -n env_pytorch python=3.6"
   ]
  },
  {
   "cell_type": "code",
   "execution_count": null,
   "metadata": {},
   "outputs": [],
   "source": [
    "conda activate env_pytorch"
   ]
  },
  {
   "cell_type": "code",
   "execution_count": null,
   "metadata": {},
   "outputs": [],
   "source": [
    "pip install torch"
   ]
  },
  {
   "cell_type": "code",
   "execution_count": 1,
   "metadata": {},
   "outputs": [
    {
     "name": "stderr",
     "output_type": "stream",
     "text": [
      "Using TensorFlow backend.\n",
      "C:\\ProgramData\\Anaconda3\\lib\\site-packages\\ipykernel_launcher.py:24: FutureWarning: The pandas.datetime class is deprecated and will be removed from pandas in a future version. Import from datetime module instead.\n"
     ]
    }
   ],
   "source": [
    "from sklearn.preprocessing import MinMaxScaler\n",
    "from keras.models import Sequential\n",
    "from keras.layers import Dense, LSTM, Dropout, GRU, Bidirectional\n",
    "from keras.optimizers import SGD\n",
    "import math\n",
    "from sklearn.metrics import mean_squared_error, mean_absolute_error\n",
    "from sklearn.linear_model import LinearRegression\n",
    "from sklearn.neighbors import KNeighborsRegressor\n",
    "import seaborn as sns\n",
    "import keras\n",
    "from sklearn import linear_model\n",
    "#import torch \n",
    "import os\n",
    "import numpy as np\n",
    "import pandas as pd\n",
    "import tqdm as tqdm\n",
    "import seaborn as sns\n",
    "from pylab import rcParams\n",
    "import matplotlib.pyplot as plt\n",
    "import matplotlib as rc\n",
    "from sklearn.preprocessing import MinMaxScaler\n",
    "from pandas.plotting import register_matplotlib_converters\n",
    "from pandas.plotting import lag_plot\n",
    "from pandas import datetime\n",
    "from statsmodels.tsa.arima_model import ARIMA\n",
    "from sklearn.metrics import mean_squared_error"
   ]
  },
  {
   "cell_type": "code",
   "execution_count": 77,
   "metadata": {},
   "outputs": [],
   "source": [
    "df= pd.read_csv('https://raw.githubusercontent.com/CSSEGISandData/COVID-19/master/csse_covid_19_data/csse_covid_19_time_series/time_series_covid19_confirmed_global.csv')"
   ]
  },
  {
   "cell_type": "code",
   "execution_count": 78,
   "metadata": {},
   "outputs": [
    {
     "data": {
      "text/html": [
       "<div>\n",
       "<style scoped>\n",
       "    .dataframe tbody tr th:only-of-type {\n",
       "        vertical-align: middle;\n",
       "    }\n",
       "\n",
       "    .dataframe tbody tr th {\n",
       "        vertical-align: top;\n",
       "    }\n",
       "\n",
       "    .dataframe thead th {\n",
       "        text-align: right;\n",
       "    }\n",
       "</style>\n",
       "<table border=\"1\" class=\"dataframe\">\n",
       "  <thead>\n",
       "    <tr style=\"text-align: right;\">\n",
       "      <th></th>\n",
       "      <th>Province/State</th>\n",
       "      <th>Country/Region</th>\n",
       "      <th>Lat</th>\n",
       "      <th>Long</th>\n",
       "      <th>1/22/20</th>\n",
       "      <th>1/23/20</th>\n",
       "      <th>1/24/20</th>\n",
       "      <th>1/25/20</th>\n",
       "      <th>1/26/20</th>\n",
       "      <th>1/27/20</th>\n",
       "      <th>...</th>\n",
       "      <th>6/26/20</th>\n",
       "      <th>6/27/20</th>\n",
       "      <th>6/28/20</th>\n",
       "      <th>6/29/20</th>\n",
       "      <th>6/30/20</th>\n",
       "      <th>7/1/20</th>\n",
       "      <th>7/2/20</th>\n",
       "      <th>7/3/20</th>\n",
       "      <th>7/4/20</th>\n",
       "      <th>7/5/20</th>\n",
       "    </tr>\n",
       "  </thead>\n",
       "  <tbody>\n",
       "    <tr>\n",
       "      <th>0</th>\n",
       "      <td>NaN</td>\n",
       "      <td>Afghanistan</td>\n",
       "      <td>33.0000</td>\n",
       "      <td>65.0000</td>\n",
       "      <td>0</td>\n",
       "      <td>0</td>\n",
       "      <td>0</td>\n",
       "      <td>0</td>\n",
       "      <td>0</td>\n",
       "      <td>0</td>\n",
       "      <td>...</td>\n",
       "      <td>30451</td>\n",
       "      <td>30616</td>\n",
       "      <td>30967</td>\n",
       "      <td>31238</td>\n",
       "      <td>31517</td>\n",
       "      <td>31836</td>\n",
       "      <td>32022</td>\n",
       "      <td>32324</td>\n",
       "      <td>32672</td>\n",
       "      <td>32951</td>\n",
       "    </tr>\n",
       "    <tr>\n",
       "      <th>1</th>\n",
       "      <td>NaN</td>\n",
       "      <td>Albania</td>\n",
       "      <td>41.1533</td>\n",
       "      <td>20.1683</td>\n",
       "      <td>0</td>\n",
       "      <td>0</td>\n",
       "      <td>0</td>\n",
       "      <td>0</td>\n",
       "      <td>0</td>\n",
       "      <td>0</td>\n",
       "      <td>...</td>\n",
       "      <td>2269</td>\n",
       "      <td>2330</td>\n",
       "      <td>2402</td>\n",
       "      <td>2466</td>\n",
       "      <td>2535</td>\n",
       "      <td>2580</td>\n",
       "      <td>2662</td>\n",
       "      <td>2752</td>\n",
       "      <td>2819</td>\n",
       "      <td>2893</td>\n",
       "    </tr>\n",
       "    <tr>\n",
       "      <th>2</th>\n",
       "      <td>NaN</td>\n",
       "      <td>Algeria</td>\n",
       "      <td>28.0339</td>\n",
       "      <td>1.6596</td>\n",
       "      <td>0</td>\n",
       "      <td>0</td>\n",
       "      <td>0</td>\n",
       "      <td>0</td>\n",
       "      <td>0</td>\n",
       "      <td>0</td>\n",
       "      <td>...</td>\n",
       "      <td>12685</td>\n",
       "      <td>12968</td>\n",
       "      <td>13273</td>\n",
       "      <td>13571</td>\n",
       "      <td>13907</td>\n",
       "      <td>14272</td>\n",
       "      <td>14657</td>\n",
       "      <td>15070</td>\n",
       "      <td>15500</td>\n",
       "      <td>15941</td>\n",
       "    </tr>\n",
       "    <tr>\n",
       "      <th>3</th>\n",
       "      <td>NaN</td>\n",
       "      <td>Andorra</td>\n",
       "      <td>42.5063</td>\n",
       "      <td>1.5218</td>\n",
       "      <td>0</td>\n",
       "      <td>0</td>\n",
       "      <td>0</td>\n",
       "      <td>0</td>\n",
       "      <td>0</td>\n",
       "      <td>0</td>\n",
       "      <td>...</td>\n",
       "      <td>855</td>\n",
       "      <td>855</td>\n",
       "      <td>855</td>\n",
       "      <td>855</td>\n",
       "      <td>855</td>\n",
       "      <td>855</td>\n",
       "      <td>855</td>\n",
       "      <td>855</td>\n",
       "      <td>855</td>\n",
       "      <td>855</td>\n",
       "    </tr>\n",
       "    <tr>\n",
       "      <th>4</th>\n",
       "      <td>NaN</td>\n",
       "      <td>Angola</td>\n",
       "      <td>-11.2027</td>\n",
       "      <td>17.8739</td>\n",
       "      <td>0</td>\n",
       "      <td>0</td>\n",
       "      <td>0</td>\n",
       "      <td>0</td>\n",
       "      <td>0</td>\n",
       "      <td>0</td>\n",
       "      <td>...</td>\n",
       "      <td>212</td>\n",
       "      <td>259</td>\n",
       "      <td>267</td>\n",
       "      <td>276</td>\n",
       "      <td>284</td>\n",
       "      <td>291</td>\n",
       "      <td>315</td>\n",
       "      <td>328</td>\n",
       "      <td>346</td>\n",
       "      <td>346</td>\n",
       "    </tr>\n",
       "    <tr>\n",
       "      <th>5</th>\n",
       "      <td>NaN</td>\n",
       "      <td>Antigua and Barbuda</td>\n",
       "      <td>17.0608</td>\n",
       "      <td>-61.7964</td>\n",
       "      <td>0</td>\n",
       "      <td>0</td>\n",
       "      <td>0</td>\n",
       "      <td>0</td>\n",
       "      <td>0</td>\n",
       "      <td>0</td>\n",
       "      <td>...</td>\n",
       "      <td>65</td>\n",
       "      <td>65</td>\n",
       "      <td>69</td>\n",
       "      <td>69</td>\n",
       "      <td>69</td>\n",
       "      <td>69</td>\n",
       "      <td>69</td>\n",
       "      <td>68</td>\n",
       "      <td>68</td>\n",
       "      <td>68</td>\n",
       "    </tr>\n",
       "    <tr>\n",
       "      <th>6</th>\n",
       "      <td>NaN</td>\n",
       "      <td>Argentina</td>\n",
       "      <td>-38.4161</td>\n",
       "      <td>-63.6167</td>\n",
       "      <td>0</td>\n",
       "      <td>0</td>\n",
       "      <td>0</td>\n",
       "      <td>0</td>\n",
       "      <td>0</td>\n",
       "      <td>0</td>\n",
       "      <td>...</td>\n",
       "      <td>55343</td>\n",
       "      <td>57744</td>\n",
       "      <td>59933</td>\n",
       "      <td>62268</td>\n",
       "      <td>64530</td>\n",
       "      <td>67197</td>\n",
       "      <td>69941</td>\n",
       "      <td>72786</td>\n",
       "      <td>75376</td>\n",
       "      <td>77815</td>\n",
       "    </tr>\n",
       "    <tr>\n",
       "      <th>7</th>\n",
       "      <td>NaN</td>\n",
       "      <td>Armenia</td>\n",
       "      <td>40.0691</td>\n",
       "      <td>45.0382</td>\n",
       "      <td>0</td>\n",
       "      <td>0</td>\n",
       "      <td>0</td>\n",
       "      <td>0</td>\n",
       "      <td>0</td>\n",
       "      <td>0</td>\n",
       "      <td>...</td>\n",
       "      <td>23247</td>\n",
       "      <td>23909</td>\n",
       "      <td>24645</td>\n",
       "      <td>25127</td>\n",
       "      <td>25542</td>\n",
       "      <td>26065</td>\n",
       "      <td>26658</td>\n",
       "      <td>27320</td>\n",
       "      <td>27900</td>\n",
       "      <td>28606</td>\n",
       "    </tr>\n",
       "    <tr>\n",
       "      <th>8</th>\n",
       "      <td>Australian Capital Territory</td>\n",
       "      <td>Australia</td>\n",
       "      <td>-35.4735</td>\n",
       "      <td>149.0124</td>\n",
       "      <td>0</td>\n",
       "      <td>0</td>\n",
       "      <td>0</td>\n",
       "      <td>0</td>\n",
       "      <td>0</td>\n",
       "      <td>0</td>\n",
       "      <td>...</td>\n",
       "      <td>108</td>\n",
       "      <td>108</td>\n",
       "      <td>108</td>\n",
       "      <td>108</td>\n",
       "      <td>108</td>\n",
       "      <td>108</td>\n",
       "      <td>108</td>\n",
       "      <td>108</td>\n",
       "      <td>108</td>\n",
       "      <td>108</td>\n",
       "    </tr>\n",
       "    <tr>\n",
       "      <th>9</th>\n",
       "      <td>New South Wales</td>\n",
       "      <td>Australia</td>\n",
       "      <td>-33.8688</td>\n",
       "      <td>151.2093</td>\n",
       "      <td>0</td>\n",
       "      <td>0</td>\n",
       "      <td>0</td>\n",
       "      <td>0</td>\n",
       "      <td>3</td>\n",
       "      <td>4</td>\n",
       "      <td>...</td>\n",
       "      <td>3174</td>\n",
       "      <td>3177</td>\n",
       "      <td>3184</td>\n",
       "      <td>3189</td>\n",
       "      <td>3203</td>\n",
       "      <td>3211</td>\n",
       "      <td>3211</td>\n",
       "      <td>3405</td>\n",
       "      <td>3419</td>\n",
       "      <td>3429</td>\n",
       "    </tr>\n",
       "  </tbody>\n",
       "</table>\n",
       "<p>10 rows × 170 columns</p>\n",
       "</div>"
      ],
      "text/plain": [
       "                 Province/State       Country/Region      Lat      Long  \\\n",
       "0                           NaN          Afghanistan  33.0000   65.0000   \n",
       "1                           NaN              Albania  41.1533   20.1683   \n",
       "2                           NaN              Algeria  28.0339    1.6596   \n",
       "3                           NaN              Andorra  42.5063    1.5218   \n",
       "4                           NaN               Angola -11.2027   17.8739   \n",
       "5                           NaN  Antigua and Barbuda  17.0608  -61.7964   \n",
       "6                           NaN            Argentina -38.4161  -63.6167   \n",
       "7                           NaN              Armenia  40.0691   45.0382   \n",
       "8  Australian Capital Territory            Australia -35.4735  149.0124   \n",
       "9               New South Wales            Australia -33.8688  151.2093   \n",
       "\n",
       "   1/22/20  1/23/20  1/24/20  1/25/20  1/26/20  1/27/20  ...  6/26/20  \\\n",
       "0        0        0        0        0        0        0  ...    30451   \n",
       "1        0        0        0        0        0        0  ...     2269   \n",
       "2        0        0        0        0        0        0  ...    12685   \n",
       "3        0        0        0        0        0        0  ...      855   \n",
       "4        0        0        0        0        0        0  ...      212   \n",
       "5        0        0        0        0        0        0  ...       65   \n",
       "6        0        0        0        0        0        0  ...    55343   \n",
       "7        0        0        0        0        0        0  ...    23247   \n",
       "8        0        0        0        0        0        0  ...      108   \n",
       "9        0        0        0        0        3        4  ...     3174   \n",
       "\n",
       "   6/27/20  6/28/20  6/29/20  6/30/20  7/1/20  7/2/20  7/3/20  7/4/20  7/5/20  \n",
       "0    30616    30967    31238    31517   31836   32022   32324   32672   32951  \n",
       "1     2330     2402     2466     2535    2580    2662    2752    2819    2893  \n",
       "2    12968    13273    13571    13907   14272   14657   15070   15500   15941  \n",
       "3      855      855      855      855     855     855     855     855     855  \n",
       "4      259      267      276      284     291     315     328     346     346  \n",
       "5       65       69       69       69      69      69      68      68      68  \n",
       "6    57744    59933    62268    64530   67197   69941   72786   75376   77815  \n",
       "7    23909    24645    25127    25542   26065   26658   27320   27900   28606  \n",
       "8      108      108      108      108     108     108     108     108     108  \n",
       "9     3177     3184     3189     3203    3211    3211    3405    3419    3429  \n",
       "\n",
       "[10 rows x 170 columns]"
      ]
     },
     "execution_count": 78,
     "metadata": {},
     "output_type": "execute_result"
    }
   ],
   "source": [
    "df.head(10)"
   ]
  },
  {
   "cell_type": "code",
   "execution_count": 100,
   "metadata": {},
   "outputs": [
    {
     "data": {
      "text/html": [
       "<div>\n",
       "<style scoped>\n",
       "    .dataframe tbody tr th:only-of-type {\n",
       "        vertical-align: middle;\n",
       "    }\n",
       "\n",
       "    .dataframe tbody tr th {\n",
       "        vertical-align: top;\n",
       "    }\n",
       "\n",
       "    .dataframe thead th {\n",
       "        text-align: right;\n",
       "    }\n",
       "</style>\n",
       "<table border=\"1\" class=\"dataframe\">\n",
       "  <thead>\n",
       "    <tr style=\"text-align: right;\">\n",
       "      <th></th>\n",
       "      <th>Country/Region</th>\n",
       "      <th>Lat</th>\n",
       "      <th>Long</th>\n",
       "      <th>1/22/20</th>\n",
       "      <th>1/23/20</th>\n",
       "      <th>1/24/20</th>\n",
       "      <th>1/25/20</th>\n",
       "      <th>1/26/20</th>\n",
       "      <th>1/27/20</th>\n",
       "      <th>1/28/20</th>\n",
       "      <th>...</th>\n",
       "      <th>6/26/20</th>\n",
       "      <th>6/27/20</th>\n",
       "      <th>6/28/20</th>\n",
       "      <th>6/29/20</th>\n",
       "      <th>6/30/20</th>\n",
       "      <th>7/1/20</th>\n",
       "      <th>7/2/20</th>\n",
       "      <th>7/3/20</th>\n",
       "      <th>7/4/20</th>\n",
       "      <th>7/5/20</th>\n",
       "    </tr>\n",
       "  </thead>\n",
       "  <tbody>\n",
       "    <tr>\n",
       "      <th>131</th>\n",
       "      <td>India</td>\n",
       "      <td>21.0</td>\n",
       "      <td>78.0</td>\n",
       "      <td>0</td>\n",
       "      <td>0</td>\n",
       "      <td>0</td>\n",
       "      <td>0</td>\n",
       "      <td>0</td>\n",
       "      <td>0</td>\n",
       "      <td>0</td>\n",
       "      <td>...</td>\n",
       "      <td>508953</td>\n",
       "      <td>528859</td>\n",
       "      <td>548318</td>\n",
       "      <td>566840</td>\n",
       "      <td>585481</td>\n",
       "      <td>604641</td>\n",
       "      <td>625544</td>\n",
       "      <td>648315</td>\n",
       "      <td>673165</td>\n",
       "      <td>697413</td>\n",
       "    </tr>\n",
       "  </tbody>\n",
       "</table>\n",
       "<p>1 rows × 169 columns</p>\n",
       "</div>"
      ],
      "text/plain": [
       "    Country/Region   Lat  Long  1/22/20  1/23/20  1/24/20  1/25/20  1/26/20  \\\n",
       "131          India  21.0  78.0        0        0        0        0        0   \n",
       "\n",
       "     1/27/20  1/28/20  ...  6/26/20  6/27/20  6/28/20  6/29/20  6/30/20  \\\n",
       "131        0        0  ...   508953   528859   548318   566840   585481   \n",
       "\n",
       "     7/1/20  7/2/20  7/3/20  7/4/20  7/5/20  \n",
       "131  604641  625544  648315  673165  697413  \n",
       "\n",
       "[1 rows x 169 columns]"
      ]
     },
     "execution_count": 100,
     "metadata": {},
     "output_type": "execute_result"
    }
   ],
   "source": [
    "df2= df[df['Country/Region']=='India'].drop(['Province/State'], axis=1)\n",
    "df2"
   ]
  },
  {
   "cell_type": "code",
   "execution_count": 81,
   "metadata": {},
   "outputs": [
    {
     "data": {
      "text/html": [
       "<div>\n",
       "<style scoped>\n",
       "    .dataframe tbody tr th:only-of-type {\n",
       "        vertical-align: middle;\n",
       "    }\n",
       "\n",
       "    .dataframe tbody tr th {\n",
       "        vertical-align: top;\n",
       "    }\n",
       "\n",
       "    .dataframe thead th {\n",
       "        text-align: right;\n",
       "    }\n",
       "</style>\n",
       "<table border=\"1\" class=\"dataframe\">\n",
       "  <thead>\n",
       "    <tr style=\"text-align: right;\">\n",
       "      <th></th>\n",
       "      <th>Lat</th>\n",
       "      <th>Long</th>\n",
       "      <th>1/22/20</th>\n",
       "      <th>1/23/20</th>\n",
       "      <th>1/24/20</th>\n",
       "      <th>1/25/20</th>\n",
       "      <th>1/26/20</th>\n",
       "      <th>1/27/20</th>\n",
       "      <th>1/28/20</th>\n",
       "      <th>1/29/20</th>\n",
       "      <th>...</th>\n",
       "      <th>6/26/20</th>\n",
       "      <th>6/27/20</th>\n",
       "      <th>6/28/20</th>\n",
       "      <th>6/29/20</th>\n",
       "      <th>6/30/20</th>\n",
       "      <th>7/1/20</th>\n",
       "      <th>7/2/20</th>\n",
       "      <th>7/3/20</th>\n",
       "      <th>7/4/20</th>\n",
       "      <th>7/5/20</th>\n",
       "    </tr>\n",
       "    <tr>\n",
       "      <th>Country/Region</th>\n",
       "      <th></th>\n",
       "      <th></th>\n",
       "      <th></th>\n",
       "      <th></th>\n",
       "      <th></th>\n",
       "      <th></th>\n",
       "      <th></th>\n",
       "      <th></th>\n",
       "      <th></th>\n",
       "      <th></th>\n",
       "      <th></th>\n",
       "      <th></th>\n",
       "      <th></th>\n",
       "      <th></th>\n",
       "      <th></th>\n",
       "      <th></th>\n",
       "      <th></th>\n",
       "      <th></th>\n",
       "      <th></th>\n",
       "      <th></th>\n",
       "      <th></th>\n",
       "    </tr>\n",
       "  </thead>\n",
       "  <tbody>\n",
       "    <tr>\n",
       "      <th>Afghanistan</th>\n",
       "      <td>33.000000</td>\n",
       "      <td>65.000000</td>\n",
       "      <td>0</td>\n",
       "      <td>0</td>\n",
       "      <td>0</td>\n",
       "      <td>0</td>\n",
       "      <td>0</td>\n",
       "      <td>0</td>\n",
       "      <td>0</td>\n",
       "      <td>0</td>\n",
       "      <td>...</td>\n",
       "      <td>30451</td>\n",
       "      <td>30616</td>\n",
       "      <td>30967</td>\n",
       "      <td>31238</td>\n",
       "      <td>31517</td>\n",
       "      <td>31836</td>\n",
       "      <td>32022</td>\n",
       "      <td>32324</td>\n",
       "      <td>32672</td>\n",
       "      <td>32951</td>\n",
       "    </tr>\n",
       "    <tr>\n",
       "      <th>Albania</th>\n",
       "      <td>41.153300</td>\n",
       "      <td>20.168300</td>\n",
       "      <td>0</td>\n",
       "      <td>0</td>\n",
       "      <td>0</td>\n",
       "      <td>0</td>\n",
       "      <td>0</td>\n",
       "      <td>0</td>\n",
       "      <td>0</td>\n",
       "      <td>0</td>\n",
       "      <td>...</td>\n",
       "      <td>2269</td>\n",
       "      <td>2330</td>\n",
       "      <td>2402</td>\n",
       "      <td>2466</td>\n",
       "      <td>2535</td>\n",
       "      <td>2580</td>\n",
       "      <td>2662</td>\n",
       "      <td>2752</td>\n",
       "      <td>2819</td>\n",
       "      <td>2893</td>\n",
       "    </tr>\n",
       "    <tr>\n",
       "      <th>Algeria</th>\n",
       "      <td>28.033900</td>\n",
       "      <td>1.659600</td>\n",
       "      <td>0</td>\n",
       "      <td>0</td>\n",
       "      <td>0</td>\n",
       "      <td>0</td>\n",
       "      <td>0</td>\n",
       "      <td>0</td>\n",
       "      <td>0</td>\n",
       "      <td>0</td>\n",
       "      <td>...</td>\n",
       "      <td>12685</td>\n",
       "      <td>12968</td>\n",
       "      <td>13273</td>\n",
       "      <td>13571</td>\n",
       "      <td>13907</td>\n",
       "      <td>14272</td>\n",
       "      <td>14657</td>\n",
       "      <td>15070</td>\n",
       "      <td>15500</td>\n",
       "      <td>15941</td>\n",
       "    </tr>\n",
       "    <tr>\n",
       "      <th>Andorra</th>\n",
       "      <td>42.506300</td>\n",
       "      <td>1.521800</td>\n",
       "      <td>0</td>\n",
       "      <td>0</td>\n",
       "      <td>0</td>\n",
       "      <td>0</td>\n",
       "      <td>0</td>\n",
       "      <td>0</td>\n",
       "      <td>0</td>\n",
       "      <td>0</td>\n",
       "      <td>...</td>\n",
       "      <td>855</td>\n",
       "      <td>855</td>\n",
       "      <td>855</td>\n",
       "      <td>855</td>\n",
       "      <td>855</td>\n",
       "      <td>855</td>\n",
       "      <td>855</td>\n",
       "      <td>855</td>\n",
       "      <td>855</td>\n",
       "      <td>855</td>\n",
       "    </tr>\n",
       "    <tr>\n",
       "      <th>Angola</th>\n",
       "      <td>-11.202700</td>\n",
       "      <td>17.873900</td>\n",
       "      <td>0</td>\n",
       "      <td>0</td>\n",
       "      <td>0</td>\n",
       "      <td>0</td>\n",
       "      <td>0</td>\n",
       "      <td>0</td>\n",
       "      <td>0</td>\n",
       "      <td>0</td>\n",
       "      <td>...</td>\n",
       "      <td>212</td>\n",
       "      <td>259</td>\n",
       "      <td>267</td>\n",
       "      <td>276</td>\n",
       "      <td>284</td>\n",
       "      <td>291</td>\n",
       "      <td>315</td>\n",
       "      <td>328</td>\n",
       "      <td>346</td>\n",
       "      <td>346</td>\n",
       "    </tr>\n",
       "    <tr>\n",
       "      <th>...</th>\n",
       "      <td>...</td>\n",
       "      <td>...</td>\n",
       "      <td>...</td>\n",
       "      <td>...</td>\n",
       "      <td>...</td>\n",
       "      <td>...</td>\n",
       "      <td>...</td>\n",
       "      <td>...</td>\n",
       "      <td>...</td>\n",
       "      <td>...</td>\n",
       "      <td>...</td>\n",
       "      <td>...</td>\n",
       "      <td>...</td>\n",
       "      <td>...</td>\n",
       "      <td>...</td>\n",
       "      <td>...</td>\n",
       "      <td>...</td>\n",
       "      <td>...</td>\n",
       "      <td>...</td>\n",
       "      <td>...</td>\n",
       "      <td>...</td>\n",
       "    </tr>\n",
       "    <tr>\n",
       "      <th>West Bank and Gaza</th>\n",
       "      <td>31.952200</td>\n",
       "      <td>35.233200</td>\n",
       "      <td>0</td>\n",
       "      <td>0</td>\n",
       "      <td>0</td>\n",
       "      <td>0</td>\n",
       "      <td>0</td>\n",
       "      <td>0</td>\n",
       "      <td>0</td>\n",
       "      <td>0</td>\n",
       "      <td>...</td>\n",
       "      <td>1557</td>\n",
       "      <td>1815</td>\n",
       "      <td>1990</td>\n",
       "      <td>2185</td>\n",
       "      <td>2428</td>\n",
       "      <td>2758</td>\n",
       "      <td>3080</td>\n",
       "      <td>3334</td>\n",
       "      <td>3835</td>\n",
       "      <td>4277</td>\n",
       "    </tr>\n",
       "    <tr>\n",
       "      <th>Western Sahara</th>\n",
       "      <td>24.215500</td>\n",
       "      <td>-12.885800</td>\n",
       "      <td>0</td>\n",
       "      <td>0</td>\n",
       "      <td>0</td>\n",
       "      <td>0</td>\n",
       "      <td>0</td>\n",
       "      <td>0</td>\n",
       "      <td>0</td>\n",
       "      <td>0</td>\n",
       "      <td>...</td>\n",
       "      <td>10</td>\n",
       "      <td>10</td>\n",
       "      <td>10</td>\n",
       "      <td>10</td>\n",
       "      <td>10</td>\n",
       "      <td>10</td>\n",
       "      <td>10</td>\n",
       "      <td>10</td>\n",
       "      <td>10</td>\n",
       "      <td>10</td>\n",
       "    </tr>\n",
       "    <tr>\n",
       "      <th>Yemen</th>\n",
       "      <td>15.552727</td>\n",
       "      <td>48.516388</td>\n",
       "      <td>0</td>\n",
       "      <td>0</td>\n",
       "      <td>0</td>\n",
       "      <td>0</td>\n",
       "      <td>0</td>\n",
       "      <td>0</td>\n",
       "      <td>0</td>\n",
       "      <td>0</td>\n",
       "      <td>...</td>\n",
       "      <td>1089</td>\n",
       "      <td>1103</td>\n",
       "      <td>1118</td>\n",
       "      <td>1128</td>\n",
       "      <td>1158</td>\n",
       "      <td>1190</td>\n",
       "      <td>1221</td>\n",
       "      <td>1240</td>\n",
       "      <td>1248</td>\n",
       "      <td>1265</td>\n",
       "    </tr>\n",
       "    <tr>\n",
       "      <th>Zambia</th>\n",
       "      <td>-15.416700</td>\n",
       "      <td>28.283300</td>\n",
       "      <td>0</td>\n",
       "      <td>0</td>\n",
       "      <td>0</td>\n",
       "      <td>0</td>\n",
       "      <td>0</td>\n",
       "      <td>0</td>\n",
       "      <td>0</td>\n",
       "      <td>0</td>\n",
       "      <td>...</td>\n",
       "      <td>1531</td>\n",
       "      <td>1531</td>\n",
       "      <td>1557</td>\n",
       "      <td>1568</td>\n",
       "      <td>1594</td>\n",
       "      <td>1632</td>\n",
       "      <td>1632</td>\n",
       "      <td>1632</td>\n",
       "      <td>1632</td>\n",
       "      <td>1632</td>\n",
       "    </tr>\n",
       "    <tr>\n",
       "      <th>Zimbabwe</th>\n",
       "      <td>-20.000000</td>\n",
       "      <td>30.000000</td>\n",
       "      <td>0</td>\n",
       "      <td>0</td>\n",
       "      <td>0</td>\n",
       "      <td>0</td>\n",
       "      <td>0</td>\n",
       "      <td>0</td>\n",
       "      <td>0</td>\n",
       "      <td>0</td>\n",
       "      <td>...</td>\n",
       "      <td>561</td>\n",
       "      <td>567</td>\n",
       "      <td>567</td>\n",
       "      <td>574</td>\n",
       "      <td>591</td>\n",
       "      <td>605</td>\n",
       "      <td>617</td>\n",
       "      <td>625</td>\n",
       "      <td>698</td>\n",
       "      <td>716</td>\n",
       "    </tr>\n",
       "  </tbody>\n",
       "</table>\n",
       "<p>188 rows × 168 columns</p>\n",
       "</div>"
      ],
      "text/plain": [
       "                          Lat       Long  1/22/20  1/23/20  1/24/20  1/25/20  \\\n",
       "Country/Region                                                                 \n",
       "Afghanistan         33.000000  65.000000        0        0        0        0   \n",
       "Albania             41.153300  20.168300        0        0        0        0   \n",
       "Algeria             28.033900   1.659600        0        0        0        0   \n",
       "Andorra             42.506300   1.521800        0        0        0        0   \n",
       "Angola             -11.202700  17.873900        0        0        0        0   \n",
       "...                       ...        ...      ...      ...      ...      ...   \n",
       "West Bank and Gaza  31.952200  35.233200        0        0        0        0   \n",
       "Western Sahara      24.215500 -12.885800        0        0        0        0   \n",
       "Yemen               15.552727  48.516388        0        0        0        0   \n",
       "Zambia             -15.416700  28.283300        0        0        0        0   \n",
       "Zimbabwe           -20.000000  30.000000        0        0        0        0   \n",
       "\n",
       "                    1/26/20  1/27/20  1/28/20  1/29/20  ...  6/26/20  6/27/20  \\\n",
       "Country/Region                                          ...                     \n",
       "Afghanistan               0        0        0        0  ...    30451    30616   \n",
       "Albania                   0        0        0        0  ...     2269     2330   \n",
       "Algeria                   0        0        0        0  ...    12685    12968   \n",
       "Andorra                   0        0        0        0  ...      855      855   \n",
       "Angola                    0        0        0        0  ...      212      259   \n",
       "...                     ...      ...      ...      ...  ...      ...      ...   \n",
       "West Bank and Gaza        0        0        0        0  ...     1557     1815   \n",
       "Western Sahara            0        0        0        0  ...       10       10   \n",
       "Yemen                     0        0        0        0  ...     1089     1103   \n",
       "Zambia                    0        0        0        0  ...     1531     1531   \n",
       "Zimbabwe                  0        0        0        0  ...      561      567   \n",
       "\n",
       "                    6/28/20  6/29/20  6/30/20  7/1/20  7/2/20  7/3/20  7/4/20  \\\n",
       "Country/Region                                                                  \n",
       "Afghanistan           30967    31238    31517   31836   32022   32324   32672   \n",
       "Albania                2402     2466     2535    2580    2662    2752    2819   \n",
       "Algeria               13273    13571    13907   14272   14657   15070   15500   \n",
       "Andorra                 855      855      855     855     855     855     855   \n",
       "Angola                  267      276      284     291     315     328     346   \n",
       "...                     ...      ...      ...     ...     ...     ...     ...   \n",
       "West Bank and Gaza     1990     2185     2428    2758    3080    3334    3835   \n",
       "Western Sahara           10       10       10      10      10      10      10   \n",
       "Yemen                  1118     1128     1158    1190    1221    1240    1248   \n",
       "Zambia                 1557     1568     1594    1632    1632    1632    1632   \n",
       "Zimbabwe                567      574      591     605     617     625     698   \n",
       "\n",
       "                    7/5/20  \n",
       "Country/Region              \n",
       "Afghanistan          32951  \n",
       "Albania               2893  \n",
       "Algeria              15941  \n",
       "Andorra                855  \n",
       "Angola                 346  \n",
       "...                    ...  \n",
       "West Bank and Gaza    4277  \n",
       "Western Sahara          10  \n",
       "Yemen                 1265  \n",
       "Zambia                1632  \n",
       "Zimbabwe               716  \n",
       "\n",
       "[188 rows x 168 columns]"
      ]
     },
     "execution_count": 81,
     "metadata": {},
     "output_type": "execute_result"
    }
   ],
   "source": [
    "df1=df.groupby(['Country/Region']).sum()\n",
    "df1"
   ]
  },
  {
   "cell_type": "code",
   "execution_count": 102,
   "metadata": {},
   "outputs": [
    {
     "name": "stdout",
     "output_type": "stream",
     "text": [
      "The shape of the df is (266, 170)\n",
      "the shape of the df1 (1, 169)\n"
     ]
    }
   ],
   "source": [
    "index=df2.index\n",
    "print(\"The shape of the df is\", df.shape)\n",
    "print(\"the shape of the df1\",df2.shape)"
   ]
  },
  {
   "cell_type": "code",
   "execution_count": 106,
   "metadata": {},
   "outputs": [
    {
     "data": {
      "text/html": [
       "<div>\n",
       "<style scoped>\n",
       "    .dataframe tbody tr th:only-of-type {\n",
       "        vertical-align: middle;\n",
       "    }\n",
       "\n",
       "    .dataframe tbody tr th {\n",
       "        vertical-align: top;\n",
       "    }\n",
       "\n",
       "    .dataframe thead th {\n",
       "        text-align: right;\n",
       "    }\n",
       "</style>\n",
       "<table border=\"1\" class=\"dataframe\">\n",
       "  <thead>\n",
       "    <tr style=\"text-align: right;\">\n",
       "      <th></th>\n",
       "      <th>1/23/20</th>\n",
       "      <th>1/24/20</th>\n",
       "      <th>1/25/20</th>\n",
       "      <th>1/26/20</th>\n",
       "      <th>1/27/20</th>\n",
       "      <th>1/28/20</th>\n",
       "      <th>1/29/20</th>\n",
       "      <th>1/30/20</th>\n",
       "      <th>1/31/20</th>\n",
       "      <th>2/1/20</th>\n",
       "      <th>...</th>\n",
       "      <th>6/26/20</th>\n",
       "      <th>6/27/20</th>\n",
       "      <th>6/28/20</th>\n",
       "      <th>6/29/20</th>\n",
       "      <th>6/30/20</th>\n",
       "      <th>7/1/20</th>\n",
       "      <th>7/2/20</th>\n",
       "      <th>7/3/20</th>\n",
       "      <th>7/4/20</th>\n",
       "      <th>7/5/20</th>\n",
       "    </tr>\n",
       "  </thead>\n",
       "  <tbody>\n",
       "    <tr>\n",
       "      <th>131</th>\n",
       "      <td>0</td>\n",
       "      <td>0</td>\n",
       "      <td>0</td>\n",
       "      <td>0</td>\n",
       "      <td>0</td>\n",
       "      <td>0</td>\n",
       "      <td>0</td>\n",
       "      <td>1</td>\n",
       "      <td>1</td>\n",
       "      <td>1</td>\n",
       "      <td>...</td>\n",
       "      <td>508953</td>\n",
       "      <td>528859</td>\n",
       "      <td>548318</td>\n",
       "      <td>566840</td>\n",
       "      <td>585481</td>\n",
       "      <td>604641</td>\n",
       "      <td>625544</td>\n",
       "      <td>648315</td>\n",
       "      <td>673165</td>\n",
       "      <td>697413</td>\n",
       "    </tr>\n",
       "  </tbody>\n",
       "</table>\n",
       "<p>1 rows × 165 columns</p>\n",
       "</div>"
      ],
      "text/plain": [
       "     1/23/20  1/24/20  1/25/20  1/26/20  1/27/20  1/28/20  1/29/20  1/30/20  \\\n",
       "131        0        0        0        0        0        0        0        1   \n",
       "\n",
       "     1/31/20  2/1/20  ...  6/26/20  6/27/20  6/28/20  6/29/20  6/30/20  \\\n",
       "131        1       1  ...   508953   528859   548318   566840   585481   \n",
       "\n",
       "     7/1/20  7/2/20  7/3/20  7/4/20  7/5/20  \n",
       "131  604641  625544  648315  673165  697413  \n",
       "\n",
       "[1 rows x 165 columns]"
      ]
     },
     "execution_count": 106,
     "metadata": {},
     "output_type": "execute_result"
    }
   ],
   "source": [
    "# we Dont need first two columns\n",
    "df2=df2.iloc[:,2:]\n",
    "df2.head()"
   ]
  },
  {
   "cell_type": "code",
   "execution_count": 107,
   "metadata": {},
   "outputs": [
    {
     "data": {
      "text/plain": [
       "False"
      ]
     },
     "execution_count": 107,
     "metadata": {},
     "output_type": "execute_result"
    }
   ],
   "source": [
    "# checking to see if there are null values\n",
    "df2.isnull().sum().any()"
   ]
  },
  {
   "cell_type": "code",
   "execution_count": 18,
   "metadata": {},
   "outputs": [],
   "source": [
    "#confirmed_table = df.melt(id_vars=[\"Province/State\", \"Country/Region\", \"Lat\", \"Long\"], var_name=\"Date\", value_name=\"Confirmed\").fillna('').drop(['Lat', 'Long'], axis=1)"
   ]
  },
  {
   "cell_type": "code",
   "execution_count": 21,
   "metadata": {},
   "outputs": [
    {
     "data": {
      "text/html": [
       "<div>\n",
       "<style scoped>\n",
       "    .dataframe tbody tr th:only-of-type {\n",
       "        vertical-align: middle;\n",
       "    }\n",
       "\n",
       "    .dataframe tbody tr th {\n",
       "        vertical-align: top;\n",
       "    }\n",
       "\n",
       "    .dataframe thead th {\n",
       "        text-align: right;\n",
       "    }\n",
       "</style>\n",
       "<table border=\"1\" class=\"dataframe\">\n",
       "  <thead>\n",
       "    <tr style=\"text-align: right;\">\n",
       "      <th></th>\n",
       "      <th>Province/State</th>\n",
       "      <th>Country/Region</th>\n",
       "      <th>Date</th>\n",
       "      <th>Confirmed</th>\n",
       "    </tr>\n",
       "  </thead>\n",
       "  <tbody>\n",
       "    <tr>\n",
       "      <th>131</th>\n",
       "      <td></td>\n",
       "      <td>India</td>\n",
       "      <td>1/22/20</td>\n",
       "      <td>0</td>\n",
       "    </tr>\n",
       "    <tr>\n",
       "      <th>397</th>\n",
       "      <td></td>\n",
       "      <td>India</td>\n",
       "      <td>1/23/20</td>\n",
       "      <td>0</td>\n",
       "    </tr>\n",
       "    <tr>\n",
       "      <th>663</th>\n",
       "      <td></td>\n",
       "      <td>India</td>\n",
       "      <td>1/24/20</td>\n",
       "      <td>0</td>\n",
       "    </tr>\n",
       "    <tr>\n",
       "      <th>929</th>\n",
       "      <td></td>\n",
       "      <td>India</td>\n",
       "      <td>1/25/20</td>\n",
       "      <td>0</td>\n",
       "    </tr>\n",
       "    <tr>\n",
       "      <th>1195</th>\n",
       "      <td></td>\n",
       "      <td>India</td>\n",
       "      <td>1/26/20</td>\n",
       "      <td>0</td>\n",
       "    </tr>\n",
       "    <tr>\n",
       "      <th>...</th>\n",
       "      <td>...</td>\n",
       "      <td>...</td>\n",
       "      <td>...</td>\n",
       "      <td>...</td>\n",
       "    </tr>\n",
       "    <tr>\n",
       "      <th>42957</th>\n",
       "      <td></td>\n",
       "      <td>India</td>\n",
       "      <td>7/1/20</td>\n",
       "      <td>604641</td>\n",
       "    </tr>\n",
       "    <tr>\n",
       "      <th>43223</th>\n",
       "      <td></td>\n",
       "      <td>India</td>\n",
       "      <td>7/2/20</td>\n",
       "      <td>625544</td>\n",
       "    </tr>\n",
       "    <tr>\n",
       "      <th>43489</th>\n",
       "      <td></td>\n",
       "      <td>India</td>\n",
       "      <td>7/3/20</td>\n",
       "      <td>648315</td>\n",
       "    </tr>\n",
       "    <tr>\n",
       "      <th>43755</th>\n",
       "      <td></td>\n",
       "      <td>India</td>\n",
       "      <td>7/4/20</td>\n",
       "      <td>673165</td>\n",
       "    </tr>\n",
       "    <tr>\n",
       "      <th>44021</th>\n",
       "      <td></td>\n",
       "      <td>India</td>\n",
       "      <td>7/5/20</td>\n",
       "      <td>697413</td>\n",
       "    </tr>\n",
       "  </tbody>\n",
       "</table>\n",
       "<p>166 rows × 4 columns</p>\n",
       "</div>"
      ],
      "text/plain": [
       "      Province/State Country/Region     Date  Confirmed\n",
       "131                           India  1/22/20          0\n",
       "397                           India  1/23/20          0\n",
       "663                           India  1/24/20          0\n",
       "929                           India  1/25/20          0\n",
       "1195                          India  1/26/20          0\n",
       "...              ...            ...      ...        ...\n",
       "42957                         India   7/1/20     604641\n",
       "43223                         India   7/2/20     625544\n",
       "43489                         India   7/3/20     648315\n",
       "43755                         India   7/4/20     673165\n",
       "44021                         India   7/5/20     697413\n",
       "\n",
       "[166 rows x 4 columns]"
      ]
     },
     "execution_count": 21,
     "metadata": {},
     "output_type": "execute_result"
    }
   ],
   "source": [
    "#df3= confirmed_table[confirmed_table['Country/Region']=='India']\n",
    "#df3"
   ]
  },
  {
   "cell_type": "code",
   "execution_count": 108,
   "metadata": {},
   "outputs": [
    {
     "data": {
      "text/plain": [
       "1/23/20         0\n",
       "1/24/20         0\n",
       "1/25/20         0\n",
       "1/26/20         0\n",
       "1/27/20         0\n",
       "            ...  \n",
       "7/1/20     604641\n",
       "7/2/20     625544\n",
       "7/3/20     648315\n",
       "7/4/20     673165\n",
       "7/5/20     697413\n",
       "Length: 165, dtype: int64"
      ]
     },
     "execution_count": 108,
     "metadata": {},
     "output_type": "execute_result"
    }
   ],
   "source": [
    "daily_confirmed_cases = df2.sum(axis=0)\n",
    "daily_confirmed_cases"
   ]
  },
  {
   "cell_type": "code",
   "execution_count": 43,
   "metadata": {},
   "outputs": [],
   "source": [
    "#daily_confirmed_cases.drop(['Province/State', 'Country/Region'], inplace= True)"
   ]
  },
  {
   "cell_type": "code",
   "execution_count": 109,
   "metadata": {},
   "outputs": [
    {
     "data": {
      "text/plain": [
       "Index(['1/23/20', '1/24/20', '1/25/20', '1/26/20', '1/27/20', '1/28/20',\n",
       "       '1/29/20', '1/30/20', '1/31/20', '2/1/20',\n",
       "       ...\n",
       "       '6/26/20', '6/27/20', '6/28/20', '6/29/20', '6/30/20', '7/1/20',\n",
       "       '7/2/20', '7/3/20', '7/4/20', '7/5/20'],\n",
       "      dtype='object', length=165)"
      ]
     },
     "execution_count": 109,
     "metadata": {},
     "output_type": "execute_result"
    }
   ],
   "source": [
    "daily_confirmed_cases.index"
   ]
  },
  {
   "cell_type": "code",
   "execution_count": 110,
   "metadata": {},
   "outputs": [],
   "source": [
    "daily_confirmed_cases.index = pd.to_datetime(daily_confirmed_cases.index)"
   ]
  },
  {
   "cell_type": "code",
   "execution_count": 111,
   "metadata": {},
   "outputs": [
    {
     "data": {
      "image/png": "[encoded data removed]",
      "text/plain": [
       "<Figure size 432x288 with 1 Axes>"
      ]
     },
     "metadata": {
      "needs_background": "light"
     },
     "output_type": "display_data"
    }
   ],
   "source": [
    "plt.plot(daily_confirmed_cases)\n",
    "plt.title(\"Cumulative daily cases\");"
   ]
  },
  {
   "cell_type": "code",
   "execution_count": 112,
   "metadata": {},
   "outputs": [
    {
     "data": {
      "text/plain": [
       "2020-01-24        0\n",
       "2020-01-25        0\n",
       "2020-01-26        0\n",
       "2020-01-27        0\n",
       "2020-01-28        0\n",
       "              ...  \n",
       "2020-07-01    19160\n",
       "2020-07-02    20903\n",
       "2020-07-03    22771\n",
       "2020-07-04    24850\n",
       "2020-07-05    24248\n",
       "Length: 164, dtype: int64"
      ]
     },
     "execution_count": 112,
     "metadata": {},
     "output_type": "execute_result"
    }
   ],
   "source": [
    "new_cases = daily_confirmed_cases.diff().dropna().astype(np.int64)\n",
    "new_cases"
   ]
  },
  {
   "cell_type": "code",
   "execution_count": 113,
   "metadata": {},
   "outputs": [
    {
     "data": {
      "image/png": "[encoded data removed]",
      "text/plain": [
       "<Figure size 432x288 with 1 Axes>"
      ]
     },
     "metadata": {
      "needs_background": "light"
     },
     "output_type": "display_data"
    }
   ],
   "source": [
    "plt.plot(new_cases[1:])\n",
    "plt.title(\"New Cases Every day\");"
   ]
  },
  {
   "cell_type": "code",
   "execution_count": 114,
   "metadata": {},
   "outputs": [],
   "source": [
    "def train_test_split(new_cases, pct):\n",
    "    In_n=int(np.ceil(pct*len(new_cases)))\n",
    "    X_train=new_cases[:In_n+1]\n",
    "    X_test=new_cases[In_n:]\n",
    "    return X_train, X_test\n",
    " \n",
    "pct=0.75\n",
    "train_data,test_data = train_test_split(new_cases, pct)"
   ]
  },
  {
   "cell_type": "code",
   "execution_count": 115,
   "metadata": {},
   "outputs": [
    {
     "name": "stdout",
     "output_type": "stream",
     "text": [
      "(124,)\n"
     ]
    },
    {
     "data": {
      "text/plain": [
       "<matplotlib.legend.Legend at 0x17ae1459e08>"
      ]
     },
     "execution_count": 115,
     "metadata": {},
     "output_type": "execute_result"
    },
    {
     "data": {
      "image/png": "[encoded data removed]",
      "text/plain": [
       "<Figure size 1008x288 with 1 Axes>"
      ]
     },
     "metadata": {
      "needs_background": "light"
     },
     "output_type": "display_data"
    }
   ],
   "source": [
    "print(train_data.shape)\n",
    "\n",
    "plt.figure(figsize=(14,4))\n",
    "plt.plot(train_data)\n",
    "plt.plot(test_data)\n",
    "plt.ylabel(\"Price\")\n",
    "plt.xlabel(\"Date\")\n",
    "plt.legend([\"Training Set\", \"Test Set\"])"
   ]
  },
  {
   "cell_type": "code",
   "execution_count": 116,
   "metadata": {},
   "outputs": [],
   "source": [
    "scaler = MinMaxScaler()\n",
    "scaler = scaler.fit((np.array(train_data)).reshape(-1,1))\n",
    "train_data = scaler.transform((np.array(train_data)).reshape(-1,1))\n",
    "test_data = scaler.transform((np.array(test_data)).reshape(-1,1))"
   ]
  },
  {
   "cell_type": "code",
   "execution_count": 117,
   "metadata": {},
   "outputs": [],
   "source": [
    "X_train = []\n",
    "y_train = []\n",
    "\n",
    "lengthTr = len(train_data)\n",
    "timeStamp=10\n",
    "for i in range(timeStamp,lengthTr):\n",
    "    X_train.append(train_data[i-timeStamp:i])\n",
    "    y_train.append(train_data[i])\n",
    "\n",
    "X_train=np.array(X_train)\n",
    "y_train=np.array(y_train)\n",
    "\n",
    "\n",
    "X_test = []\n",
    "y_test = [] \n",
    "\n",
    "lengthTe = len(test_data)\n",
    "for i in range(timeStamp, lengthTe):\n",
    "    X_test.append(test_data[i-timeStamp:i])\n",
    "    y_test.append(test_data[i])\n",
    "\n",
    "X_test=np.array(X_test)\n",
    "y_test=np.array(y_test)"
   ]
  },
  {
   "cell_type": "code",
   "execution_count": 118,
   "metadata": {},
   "outputs": [
    {
     "data": {
      "text/plain": [
       "(31, 10, 1)"
      ]
     },
     "execution_count": 118,
     "metadata": {},
     "output_type": "execute_result"
    }
   ],
   "source": [
    "X_test.shape"
   ]
  },
  {
   "cell_type": "code",
   "execution_count": 119,
   "metadata": {},
   "outputs": [
    {
     "name": "stdout",
     "output_type": "stream",
     "text": [
      "Figure below depict how we generate X_train and y_train\n",
      "timeStamp=5\n"
     ]
    }
   ],
   "source": [
    "print(\"Figure below depict how we generate X_train and y_train\")\n",
    "print(\"timeStamp=5\")\n",
    "#from IPython.display import Image\n",
    "#Image(\"C://Users//bidar20m//Desktop//ax.jpg\")"
   ]
  },
  {
   "cell_type": "code",
   "execution_count": 120,
   "metadata": {},
   "outputs": [
    {
     "data": {
      "text/plain": [
       "(114, 10, 1)"
      ]
     },
     "execution_count": 120,
     "metadata": {},
     "output_type": "execute_result"
    }
   ],
   "source": [
    "X_train.shape"
   ]
  },
  {
   "cell_type": "code",
   "execution_count": 121,
   "metadata": {},
   "outputs": [
    {
     "data": {
      "text/plain": [
       "(array([[0.        ],\n",
       "        [0.        ],\n",
       "        [0.        ],\n",
       "        [0.        ],\n",
       "        [0.        ],\n",
       "        [0.        ],\n",
       "        [0.00014059],\n",
       "        [0.        ],\n",
       "        [0.        ],\n",
       "        [0.00014059]]),\n",
       " array([0.00014059]))"
      ]
     },
     "execution_count": 121,
     "metadata": {},
     "output_type": "execute_result"
    }
   ],
   "source": [
    "# Sample of Sequence \n",
    "X_train[0], y_train[0]"
   ]
  },
  {
   "cell_type": "code",
   "execution_count": 122,
   "metadata": {},
   "outputs": [
    {
     "name": "stdout",
     "output_type": "stream",
     "text": [
      "Model: \"sequential_3\"\n",
      "_________________________________________________________________\n",
      "Layer (type)                 Output Shape              Param #   \n",
      "=================================================================\n",
      "lstm_5 (LSTM)                (None, 10, 30)            3840      \n",
      "_________________________________________________________________\n",
      "dropout_9 (Dropout)          (None, 10, 30)            0         \n",
      "_________________________________________________________________\n",
      "lstm_6 (LSTM)                (None, 10, 20)            4080      \n",
      "_________________________________________________________________\n",
      "dropout_10 (Dropout)         (None, 10, 20)            0         \n",
      "_________________________________________________________________\n",
      "lstm_7 (LSTM)                (None, 10, 20)            3280      \n",
      "_________________________________________________________________\n",
      "dropout_11 (Dropout)         (None, 10, 20)            0         \n",
      "_________________________________________________________________\n",
      "lstm_8 (LSTM)                (None, 20)                3280      \n",
      "_________________________________________________________________\n",
      "dropout_12 (Dropout)         (None, 20)                0         \n",
      "_________________________________________________________________\n",
      "dense_3 (Dense)              (None, 1)                 21        \n",
      "=================================================================\n",
      "Total params: 14,501\n",
      "Trainable params: 14,501\n",
      "Non-trainable params: 0\n",
      "_________________________________________________________________\n"
     ]
    }
   ],
   "source": [
    "model = Sequential([\n",
    "                    keras.layers.LSTM(units=30, return_sequences=True, input_shape=(X_train.shape[1],1)),\n",
    "                    Dropout(0.4),\n",
    "\n",
    "                    keras.layers.LSTM(units=20, return_sequences=True),\n",
    "                    Dropout(0.4),\n",
    "\n",
    "                    keras.layers.LSTM(units=20, return_sequences=True),\n",
    "                    Dropout(0.4),\n",
    "\n",
    "                    keras.layers.LSTM(units=20),\n",
    "                    Dropout(0.4),\n",
    "\n",
    "                    keras.layers.Dense(units=1),\n",
    "                   ])\n",
    "model.summary()\n"
   ]
  },
  {
   "cell_type": "code",
   "execution_count": 123,
   "metadata": {},
   "outputs": [],
   "source": [
    "model.compile(optimizer='rmsprop', loss='mean_squared_error', metrics=['mean_squared_error'])"
   ]
  },
  {
   "cell_type": "code",
   "execution_count": 124,
   "metadata": {},
   "outputs": [
    {
     "name": "stdout",
     "output_type": "stream",
     "text": [
      "Epoch 1/50\n",
      "114/114 [==============================] - 2s 20ms/step - loss: 0.1078 - mean_squared_error: 0.1078\n",
      "Epoch 2/50\n",
      "114/114 [==============================] - 0s 421us/step - loss: 0.0922 - mean_squared_error: 0.0922\n",
      "Epoch 3/50\n",
      "114/114 [==============================] - 0s 421us/step - loss: 0.0804 - mean_squared_error: 0.0804\n",
      "Epoch 4/50\n",
      "114/114 [==============================] - 0s 421us/step - loss: 0.0758 - mean_squared_error: 0.0758\n",
      "Epoch 5/50\n",
      "114/114 [==============================] - 0s 421us/step - loss: 0.0669 - mean_squared_error: 0.0669\n",
      "Epoch 6/50\n",
      "114/114 [==============================] - 0s 374us/step - loss: 0.0642 - mean_squared_error: 0.0642\n",
      "Epoch 7/50\n",
      "114/114 [==============================] - 0s 421us/step - loss: 0.0532 - mean_squared_error: 0.0532\n",
      "Epoch 8/50\n",
      "114/114 [==============================] - 0s 421us/step - loss: 0.0494 - mean_squared_error: 0.0494\n",
      "Epoch 9/50\n",
      "114/114 [==============================] - 0s 421us/step - loss: 0.0455 - mean_squared_error: 0.0455\n",
      "Epoch 10/50\n",
      "114/114 [==============================] - 0s 421us/step - loss: 0.0395 - mean_squared_error: 0.0395\n",
      "Epoch 11/50\n",
      "114/114 [==============================] - 0s 421us/step - loss: 0.0405 - mean_squared_error: 0.0405\n",
      "Epoch 12/50\n",
      "114/114 [==============================] - 0s 421us/step - loss: 0.0291 - mean_squared_error: 0.0291\n",
      "Epoch 13/50\n",
      "114/114 [==============================] - 0s 401us/step - loss: 0.0213 - mean_squared_error: 0.0213\n",
      "Epoch 14/50\n",
      "114/114 [==============================] - 0s 421us/step - loss: 0.0125 - mean_squared_error: 0.0125\n",
      "Epoch 15/50\n",
      "114/114 [==============================] - 0s 355us/step - loss: 0.0202 - mean_squared_error: 0.0202\n",
      "Epoch 16/50\n",
      "114/114 [==============================] - 0s 351us/step - loss: 0.0129 - mean_squared_error: 0.0129\n",
      "Epoch 17/50\n",
      "114/114 [==============================] - 0s 421us/step - loss: 0.0132 - mean_squared_error: 0.0132\n",
      "Epoch 18/50\n",
      "114/114 [==============================] - 0s 351us/step - loss: 0.0126 - mean_squared_error: 0.0126\n",
      "Epoch 19/50\n",
      "114/114 [==============================] - 0s 355us/step - loss: 0.0106 - mean_squared_error: 0.0106\n",
      "Epoch 20/50\n",
      "114/114 [==============================] - 0s 426us/step - loss: 0.0133 - mean_squared_error: 0.0133\n",
      "Epoch 21/50\n",
      "114/114 [==============================] - 0s 344us/step - loss: 0.0163 - mean_squared_error: 0.0163\n",
      "Epoch 22/50\n",
      "114/114 [==============================] - 0s 351us/step - loss: 0.0112 - mean_squared_error: 0.0112\n",
      "Epoch 23/50\n",
      "114/114 [==============================] - 0s 421us/step - loss: 0.0121 - mean_squared_error: 0.0121\n",
      "Epoch 24/50\n",
      "114/114 [==============================] - 0s 351us/step - loss: 0.0122 - mean_squared_error: 0.0122\n",
      "Epoch 25/50\n",
      "114/114 [==============================] - 0s 351us/step - loss: 0.0181 - mean_squared_error: 0.0181\n",
      "Epoch 26/50\n",
      "114/114 [==============================] - 0s 351us/step - loss: 0.0115 - mean_squared_error: 0.0115\n",
      "Epoch 27/50\n",
      "114/114 [==============================] - 0s 351us/step - loss: 0.0168 - mean_squared_error: 0.0168\n",
      "Epoch 28/50\n",
      "114/114 [==============================] - 0s 351us/step - loss: 0.0120 - mean_squared_error: 0.0120\n",
      "Epoch 29/50\n",
      "114/114 [==============================] - 0s 421us/step - loss: 0.0110 - mean_squared_error: 0.0110\n",
      "Epoch 30/50\n",
      "114/114 [==============================] - 0s 421us/step - loss: 0.0087 - mean_squared_error: 0.0087\n",
      "Epoch 31/50\n",
      "114/114 [==============================] - 0s 351us/step - loss: 0.0126 - mean_squared_error: 0.0126\n",
      "Epoch 32/50\n",
      "114/114 [==============================] - 0s 351us/step - loss: 0.0144 - mean_squared_error: 0.0144\n",
      "Epoch 33/50\n",
      "114/114 [==============================] - 0s 421us/step - loss: 0.0085 - mean_squared_error: 0.0085\n",
      "Epoch 34/50\n",
      "114/114 [==============================] - 0s 421us/step - loss: 0.0146 - mean_squared_error: 0.0146\n",
      "Epoch 35/50\n",
      "114/114 [==============================] - 0s 391us/step - loss: 0.0152 - mean_squared_error: 0.0152\n",
      "Epoch 36/50\n",
      "114/114 [==============================] - 0s 421us/step - loss: 0.0101 - mean_squared_error: 0.0101\n",
      "Epoch 37/50\n",
      "114/114 [==============================] - 0s 357us/step - loss: 0.0093 - mean_squared_error: 0.0093\n",
      "Epoch 38/50\n",
      "114/114 [==============================] - 0s 351us/step - loss: 0.0136 - mean_squared_error: 0.0136\n",
      "Epoch 39/50\n",
      "114/114 [==============================] - 0s 421us/step - loss: 0.0115 - mean_squared_error: 0.0115\n",
      "Epoch 40/50\n",
      "114/114 [==============================] - 0s 351us/step - loss: 0.0088 - mean_squared_error: 0.0088\n",
      "Epoch 41/50\n",
      "114/114 [==============================] - 0s 316us/step - loss: 0.0102 - mean_squared_error: 0.0102\n",
      "Epoch 42/50\n",
      "114/114 [==============================] - 0s 351us/step - loss: 0.0058 - mean_squared_error: 0.0058\n",
      "Epoch 43/50\n",
      "114/114 [==============================] - 0s 421us/step - loss: 0.0151 - mean_squared_error: 0.0151\n",
      "Epoch 44/50\n",
      "114/114 [==============================] - 0s 351us/step - loss: 0.0162 - mean_squared_error: 0.0162\n",
      "Epoch 45/50\n",
      "114/114 [==============================] - 0s 351us/step - loss: 0.0107 - mean_squared_error: 0.0107\n",
      "Epoch 46/50\n",
      "114/114 [==============================] - 0s 351us/step - loss: 0.0103 - mean_squared_error: 0.0103\n",
      "Epoch 47/50\n",
      "114/114 [==============================] - 0s 351us/step - loss: 0.0106 - mean_squared_error: 0.0106\n",
      "Epoch 48/50\n",
      "114/114 [==============================] - 0s 421us/step - loss: 0.0128 - mean_squared_error: 0.0128\n",
      "Epoch 49/50\n",
      "114/114 [==============================] - 0s 421us/step - loss: 0.0128 - mean_squared_error: 0.0128\n",
      "Epoch 50/50\n",
      "114/114 [==============================] - 0s 351us/step - loss: 0.0104 - mean_squared_error: 0.0104\n"
     ]
    },
    {
     "data": {
      "text/plain": [
       "<keras.callbacks.callbacks.History at 0x17ae1d68f88>"
      ]
     },
     "execution_count": 124,
     "metadata": {},
     "output_type": "execute_result"
    }
   ],
   "source": [
    "model.fit(X_train, y_train, epochs=50, batch_size=200)"
   ]
  },
  {
   "cell_type": "code",
   "execution_count": 125,
   "metadata": {},
   "outputs": [
    {
     "data": {
      "text/plain": [
       "[<matplotlib.lines.Line2D at 0x17ae5e86208>]"
      ]
     },
     "execution_count": 125,
     "metadata": {},
     "output_type": "execute_result"
    },
    {
     "data": {
      "image/png": "[encoded data removed]",
      "text/plain": [
       "<Figure size 1008x432 with 1 Axes>"
      ]
     },
     "metadata": {
      "needs_background": "light"
     },
     "output_type": "display_data"
    }
   ],
   "source": [
    "pred_result = {}\n",
    "\n",
    "y_true = (y_test)\n",
    "y_pred = (model.predict(X_test))\n",
    "MSE = mean_squared_error(y_true, y_pred)\n",
    "pred_result= {}\n",
    "pred_result[\"True\"] = y_true\n",
    "pred_result[\"Pred\"] = y_pred\n",
    "\n",
    "plt.figure(figsize=(14,6))\n",
    "plt.title(\"LSTM with MSE {:10.4f}\".format(MSE))\n",
    "plt.plot(y_true)\n",
    "plt.plot(y_pred)"
   ]
  },
  {
   "cell_type": "code",
   "execution_count": 126,
   "metadata": {},
   "outputs": [
    {
     "name": "stdout",
     "output_type": "stream",
     "text": [
      "Epoch 1/50\n",
      "114/114 [==============================] - 3s 23ms/step - loss: 0.1215\n",
      "Epoch 2/50\n",
      "114/114 [==============================] - 0s 619us/step - loss: 0.1155\n",
      "Epoch 3/50\n",
      "114/114 [==============================] - 0s 556us/step - loss: 0.0997\n",
      "Epoch 4/50\n",
      "114/114 [==============================] - 0s 564us/step - loss: 0.0847\n",
      "Epoch 5/50\n",
      "114/114 [==============================] - 0s 528us/step - loss: 0.0798\n",
      "Epoch 6/50\n",
      "114/114 [==============================] - 0s 561us/step - loss: 0.0833\n",
      "Epoch 7/50\n",
      "114/114 [==============================] - 0s 542us/step - loss: 0.0875\n",
      "Epoch 8/50\n",
      "114/114 [==============================] - 0s 561us/step - loss: 0.0896\n",
      "Epoch 9/50\n",
      "114/114 [==============================] - 0s 561us/step - loss: 0.0909\n",
      "Epoch 10/50\n",
      "114/114 [==============================] - 0s 561us/step - loss: 0.0858\n",
      "Epoch 11/50\n",
      "114/114 [==============================] - 0s 561us/step - loss: 0.0809\n",
      "Epoch 12/50\n",
      "114/114 [==============================] - 0s 460us/step - loss: 0.0727\n",
      "Epoch 13/50\n",
      "114/114 [==============================] - 0s 514us/step - loss: 0.0677\n",
      "Epoch 14/50\n",
      "114/114 [==============================] - 0s 561us/step - loss: 0.0666\n",
      "Epoch 15/50\n",
      "114/114 [==============================] - 0s 491us/step - loss: 0.0670\n",
      "Epoch 16/50\n",
      "114/114 [==============================] - 0s 491us/step - loss: 0.0701\n",
      "Epoch 17/50\n",
      "114/114 [==============================] - 0s 491us/step - loss: 0.0697\n",
      "Epoch 18/50\n",
      "114/114 [==============================] - 0s 491us/step - loss: 0.0682\n",
      "Epoch 19/50\n",
      "114/114 [==============================] - 0s 568us/step - loss: 0.0640\n",
      "Epoch 20/50\n",
      "114/114 [==============================] - 0s 558us/step - loss: 0.0590\n",
      "Epoch 21/50\n",
      "114/114 [==============================] - 0s 491us/step - loss: 0.0538\n",
      "Epoch 22/50\n",
      "114/114 [==============================] - 0s 561us/step - loss: 0.0564\n",
      "Epoch 23/50\n",
      "114/114 [==============================] - 0s 496us/step - loss: 0.0546\n",
      "Epoch 24/50\n",
      "114/114 [==============================] - 0s 561us/step - loss: 0.0490\n",
      "Epoch 25/50\n",
      "114/114 [==============================] - 0s 491us/step - loss: 0.0526\n",
      "Epoch 26/50\n",
      "114/114 [==============================] - 0s 493us/step - loss: 0.0494\n",
      "Epoch 27/50\n",
      "114/114 [==============================] - 0s 491us/step - loss: 0.0469\n",
      "Epoch 28/50\n",
      "114/114 [==============================] - 0s 561us/step - loss: 0.0456\n",
      "Epoch 29/50\n",
      "114/114 [==============================] - 0s 603us/step - loss: 0.0444\n",
      "Epoch 30/50\n",
      "114/114 [==============================] - 0s 459us/step - loss: 0.0398\n",
      "Epoch 31/50\n",
      "114/114 [==============================] - 0s 453us/step - loss: 0.0389\n",
      "Epoch 32/50\n",
      "114/114 [==============================] - 0s 561us/step - loss: 0.0407\n",
      "Epoch 33/50\n",
      "114/114 [==============================] - 0s 561us/step - loss: 0.0374\n",
      "Epoch 34/50\n",
      "114/114 [==============================] - 0s 561us/step - loss: 0.0337\n",
      "Epoch 35/50\n",
      "114/114 [==============================] - 0s 491us/step - loss: 0.0366\n",
      "Epoch 36/50\n",
      "114/114 [==============================] - 0s 529us/step - loss: 0.0326\n",
      "Epoch 37/50\n",
      "114/114 [==============================] - 0s 493us/step - loss: 0.0282\n",
      "Epoch 38/50\n",
      "114/114 [==============================] - 0s 495us/step - loss: 0.0286\n",
      "Epoch 39/50\n",
      "114/114 [==============================] - 0s 534us/step - loss: 0.0304\n",
      "Epoch 40/50\n",
      "114/114 [==============================] - 0s 563us/step - loss: 0.0285\n",
      "Epoch 41/50\n",
      "114/114 [==============================] - 0s 447us/step - loss: 0.0238\n",
      "Epoch 42/50\n",
      "114/114 [==============================] - 0s 491us/step - loss: 0.0209\n",
      "Epoch 43/50\n",
      "114/114 [==============================] - 0s 491us/step - loss: 0.0229\n",
      "Epoch 44/50\n",
      "114/114 [==============================] - 0s 491us/step - loss: 0.0235\n",
      "Epoch 45/50\n",
      "114/114 [==============================] - 0s 491us/step - loss: 0.0160\n",
      "Epoch 46/50\n",
      "114/114 [==============================] - 0s 631us/step - loss: 0.0195\n",
      "Epoch 47/50\n",
      "114/114 [==============================] - 0s 561us/step - loss: 0.0139\n",
      "Epoch 48/50\n",
      "114/114 [==============================] - 0s 491us/step - loss: 0.0132\n",
      "Epoch 49/50\n",
      "114/114 [==============================] - 0s 491us/step - loss: 0.0130\n",
      "Epoch 50/50\n",
      "114/114 [==============================] - 0s 491us/step - loss: 0.0128\n"
     ]
    },
    {
     "data": {
      "text/plain": [
       "<keras.callbacks.callbacks.History at 0x17ae6072348>"
      ]
     },
     "execution_count": 126,
     "metadata": {},
     "output_type": "execute_result"
    }
   ],
   "source": [
    "model_GRU= Sequential([\n",
    "                keras.layers.GRU(units=50, return_sequences=True, input_shape=(X_train.shape[1],1), activation='tanh'),\n",
    "                Dropout(0.2),\n",
    "\n",
    "                keras.layers.GRU(units=50, return_sequences=True, input_shape=(X_train.shape[1],1), activation='tanh'),\n",
    "                Dropout(0.2),\n",
    "\n",
    "                keras.layers.GRU(units=50, return_sequences=True, input_shape=(X_train.shape[1],1), activation='tanh'),\n",
    "                Dropout(0.2),\n",
    "\n",
    "                keras.layers.GRU(units=50, activation='tanh'),\n",
    "                Dropout(0.2),\n",
    "\n",
    "                keras.layers.Dense(units=1)])\n",
    "\n",
    "\n",
    "\n",
    "model_GRU.compile(optimizer=SGD(lr=0.01, decay=1e-7, momentum=0.9, nesterov=False),loss='mean_squared_error')\n",
    "\n",
    "model_GRU.fit(X_train, y_train,epochs=50,batch_size=150)"
   ]
  },
  {
   "cell_type": "code",
   "execution_count": 127,
   "metadata": {},
   "outputs": [
    {
     "data": {
      "text/plain": [
       "[<matplotlib.lines.Line2D at 0x17ae76cd8c8>]"
      ]
     },
     "execution_count": 127,
     "metadata": {},
     "output_type": "execute_result"
    },
    {
     "data": {
      "image/png": "[encoded data removed]",
      "text/plain": [
       "<Figure size 1008x432 with 1 Axes>"
      ]
     },
     "metadata": {
      "needs_background": "light"
     },
     "output_type": "display_data"
    }
   ],
   "source": [
    "pred_result = {}\n",
    "\n",
    "y_true = (y_test.reshape(-1,1))\n",
    "y_pred = (model_GRU.predict(X_test))\n",
    "MSE = mean_squared_error(y_true, y_pred)\n",
    "pred_result= {}\n",
    "pred_result[\"True\"] = y_true\n",
    "pred_result[\"Pred\"] = y_pred\n",
    "\n",
    "plt.figure(figsize=(14,6))\n",
    "plt.title(\"LSTM with MSE {:10.4f}\".format(MSE))\n",
    "plt.plot(y_true)\n",
    "plt.plot(y_pred)"
   ]
  },
  {
   "cell_type": "code",
   "execution_count": 128,
   "metadata": {},
   "outputs": [],
   "source": [
    "nsamples, nx, ny = X_train.shape\n",
    "d2_X_train= X_train.reshape((nsamples,nx*ny))\n",
    "\n",
    "nsamples, nx, ny = X_test.shape\n",
    "d2_X_test= X_test.reshape((nsamples,nx*ny))"
   ]
  },
  {
   "cell_type": "code",
   "execution_count": 129,
   "metadata": {},
   "outputs": [
    {
     "data": {
      "text/plain": [
       "(114, 10)"
      ]
     },
     "execution_count": 129,
     "metadata": {},
     "output_type": "execute_result"
    }
   ],
   "source": [
    "\n",
    "d2_X_train.shape"
   ]
  },
  {
   "cell_type": "code",
   "execution_count": 130,
   "metadata": {},
   "outputs": [
    {
     "data": {
      "text/plain": [
       "[<matplotlib.lines.Line2D at 0x17aec89f408>]"
      ]
     },
     "execution_count": 130,
     "metadata": {},
     "output_type": "execute_result"
    },
    {
     "data": {
      "image/png": "[encoded data removed]",
      "text/plain": [
       "<Figure size 1008x432 with 1 Axes>"
      ]
     },
     "metadata": {
      "needs_background": "light"
     },
     "output_type": "display_data"
    }
   ],
   "source": [
    "model=LinearRegression(n_jobs=-2)\n",
    "name=\"LinearRegression\"\n",
    "model.fit(d2_X_train, y_train)\n",
    "confidence = model.score(d2_X_test, y_test)\n",
    "Close= (y_test.reshape(-1,1))\n",
    "pred_close = (model.predict(d2_X_test))\n",
    "plt.figure(figsize=(14,6))\n",
    "plt.title(\"{} with Confidence {:10.4f}\".format(name, confidence))\n",
    "\n",
    "plt.plot(Close)\n",
    "plt.plot(pred_close)"
   ]
  },
  {
   "cell_type": "code",
   "execution_count": 131,
   "metadata": {},
   "outputs": [],
   "source": [
    "df1=df.groupby(['Country/Region']).sum()"
   ]
  },
  {
   "cell_type": "code",
   "execution_count": 132,
   "metadata": {},
   "outputs": [],
   "source": [
    "# we Dont need first two columns\n",
    "df1=df1.iloc[:,2:]\n",
    "df1.head()\n",
    "daily_confirmed_cases = df1.sum(axis=0)\n",
    "daily_confirmed_cases.index = pd.to_datetime(daily_confirmed_cases.index)"
   ]
  },
  {
   "cell_type": "code",
   "execution_count": 133,
   "metadata": {},
   "outputs": [],
   "source": [
    "new_cases = daily_confirmed_cases.diff().dropna().astype(np.int64)\n",
    "\n",
    "def train_test_split(new_cases, pct):\n",
    "    In_n=int(np.ceil(pct*len(new_cases)))\n",
    "    X_train=new_cases[:In_n+1]\n",
    "    X_test=new_cases[In_n:]\n",
    "    return X_train, X_test\n",
    " \n",
    "pct=0.75\n",
    "train_data,test_data = train_test_split(new_cases, pct)"
   ]
  },
  {
   "cell_type": "code",
   "execution_count": 137,
   "metadata": {},
   "outputs": [
    {
     "data": {
      "text/plain": [
       "<matplotlib.legend.Legend at 0x17aecbc96c8>"
      ]
     },
     "execution_count": 137,
     "metadata": {},
     "output_type": "execute_result"
    },
    {
     "data": {
      "image/png": "[encoded data removed]",
      "text/plain": [
       "<Figure size 864x504 with 1 Axes>"
      ]
     },
     "metadata": {
      "needs_background": "light"
     },
     "output_type": "display_data"
    }
   ],
   "source": [
    "#train_data, test_data = df[0:int(len(df)*0.8)], df[int(len(df)*0.8):]\n",
    "plt.figure(figsize=(12,7))\n",
    "plt.title('Prediction')\n",
    "plt.xlabel('Dates')\n",
    "plt.ylabel('Prices')\n",
    "plt.plot(train_data, 'blue', label='Training Data')\n",
    "plt.plot(test_data, 'green', label='Testing Data')\n",
    "\n",
    "plt.legend()"
   ]
  },
  {
   "cell_type": "code",
   "execution_count": 135,
   "metadata": {},
   "outputs": [
    {
     "name": "stdout",
     "output_type": "stream",
     "text": [
      "<class 'list'>\n"
     ]
    }
   ],
   "source": [
    "train_ar = train_data\n",
    "test_ar = test_data\n",
    "history = [x for x in train_ar]\n",
    "print(type(history))\n",
    "predictions = list()\n",
    "for t in range(len(test_ar)):\n",
    "    model = ARIMA(history, order=(5,1,0))\n",
    "    model_fit = model.fit(disp=0)\n",
    "    output = model_fit.forecast()\n",
    "    yhat = output[0]\n",
    "    predictions.append(yhat)\n",
    "    obs = test_ar[t]\n",
    "    history.append(obs)\n",
    "error = mean_squared_error(test_ar, predictions)"
   ]
  },
  {
   "cell_type": "code",
   "execution_count": 136,
   "metadata": {},
   "outputs": [
    {
     "data": {
      "text/plain": [
       "Text(0, 0.5, 'New cases')"
      ]
     },
     "execution_count": 136,
     "metadata": {},
     "output_type": "execute_result"
    },
    {
     "data": {
      "image/png": "[encoded data removed]",
      "text/plain": [
       "<Figure size 864x504 with 1 Axes>"
      ]
     },
     "metadata": {
      "needs_background": "light"
     },
     "output_type": "display_data"
    }
   ],
   "source": [
    "plt.figure(figsize=(12,7))\n",
    "plt.plot(train_data, 'green', color='blue', label='Training Data')\n",
    "plt.plot(test_data.index, predictions, color='green', marker='o', linestyle='dashed',label='Predicted Values')\n",
    "plt.plot(test_data.index, test_data, color='red', label='Actual Values')\n",
    "plt.title('New Cases Prediction')\n",
    "plt.xlabel('Dates')\n",
    "plt.ylabel('New cases')"
   ]
  },
  {
   "cell_type": "code",
   "execution_count": null,
   "metadata": {},
   "outputs": [],
   "source": []
  }
 ],
 "metadata": {
  "kernelspec": {
   "display_name": "Python 3",
   "language": "python",
   "name": "python3"
  },
  "language_info": {
   "codemirror_mode": {
    "name": "ipython",
    "version": 3
   },
   "file_extension": ".py",
   "mimetype": "text/x-python",
   "name": "python",
   "nbconvert_exporter": "python",
   "pygments_lexer": "ipython3",
   "version": "3.7.6"
  }
 },
 "nbformat": 4,
 "nbformat_minor": 4
}
